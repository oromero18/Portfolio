{
 "cells": [
  {
   "cell_type": "markdown",
   "metadata": {},
   "source": [
    "Preguntas a responder: \n",
    "- ¿Qué organización lanzó más misiones espaciales en un año determinado?\n",
    "- ¿Cuántos lanzamientos se realizaron por año? \n",
    "- ¿Cómo ha variado el costo de una misión espacial a lo largo del tiempo?\n",
    "- ¿Qué meses son los más populares para los lanzamientos? \n",
    "- ¿Se han vuelto más seguras las misiones espaciales o las posibilidades de fracaso se han mantenido sin cambios?"
   ]
  },
  {
   "cell_type": "code",
   "execution_count": 15,
   "metadata": {},
   "outputs": [],
   "source": [
    "import pandas as pd\n",
    "url = (\"https://raw.githubusercontent.com/oromero18/Portfolio/refs/heads/main/Space_Mission_Launches/mission_launches.csv\")"
   ]
  },
  {
   "cell_type": "code",
   "execution_count": 16,
   "metadata": {},
   "outputs": [
    {
     "data": {
      "text/html": [
       "<div>\n",
       "<style scoped>\n",
       "    .dataframe tbody tr th:only-of-type {\n",
       "        vertical-align: middle;\n",
       "    }\n",
       "\n",
       "    .dataframe tbody tr th {\n",
       "        vertical-align: top;\n",
       "    }\n",
       "\n",
       "    .dataframe thead th {\n",
       "        text-align: right;\n",
       "    }\n",
       "</style>\n",
       "<table border=\"1\" class=\"dataframe\">\n",
       "  <thead>\n",
       "    <tr style=\"text-align: right;\">\n",
       "      <th></th>\n",
       "      <th>Unnamed: 0.1</th>\n",
       "      <th>Unnamed: 0</th>\n",
       "      <th>Organisation</th>\n",
       "      <th>Location</th>\n",
       "      <th>Date</th>\n",
       "      <th>Detail</th>\n",
       "      <th>Rocket_Status</th>\n",
       "      <th>Price</th>\n",
       "      <th>Mission_Status</th>\n",
       "    </tr>\n",
       "  </thead>\n",
       "  <tbody>\n",
       "    <tr>\n",
       "      <th>0</th>\n",
       "      <td>0</td>\n",
       "      <td>0</td>\n",
       "      <td>SpaceX</td>\n",
       "      <td>LC-39A, Kennedy Space Center, Florida, USA</td>\n",
       "      <td>Fri Aug 07, 2020 05:12 UTC</td>\n",
       "      <td>Falcon 9 Block 5 | Starlink V1 L9 &amp; BlackSky</td>\n",
       "      <td>StatusActive</td>\n",
       "      <td>50.0</td>\n",
       "      <td>Success</td>\n",
       "    </tr>\n",
       "    <tr>\n",
       "      <th>1</th>\n",
       "      <td>1</td>\n",
       "      <td>1</td>\n",
       "      <td>CASC</td>\n",
       "      <td>Site 9401 (SLS-2), Jiuquan Satellite Launch Ce...</td>\n",
       "      <td>Thu Aug 06, 2020 04:01 UTC</td>\n",
       "      <td>Long March 2D | Gaofen-9 04 &amp; Q-SAT</td>\n",
       "      <td>StatusActive</td>\n",
       "      <td>29.75</td>\n",
       "      <td>Success</td>\n",
       "    </tr>\n",
       "    <tr>\n",
       "      <th>2</th>\n",
       "      <td>2</td>\n",
       "      <td>2</td>\n",
       "      <td>SpaceX</td>\n",
       "      <td>Pad A, Boca Chica, Texas, USA</td>\n",
       "      <td>Tue Aug 04, 2020 23:57 UTC</td>\n",
       "      <td>Starship Prototype | 150 Meter Hop</td>\n",
       "      <td>StatusActive</td>\n",
       "      <td>NaN</td>\n",
       "      <td>Success</td>\n",
       "    </tr>\n",
       "    <tr>\n",
       "      <th>3</th>\n",
       "      <td>3</td>\n",
       "      <td>3</td>\n",
       "      <td>Roscosmos</td>\n",
       "      <td>Site 200/39, Baikonur Cosmodrome, Kazakhstan</td>\n",
       "      <td>Thu Jul 30, 2020 21:25 UTC</td>\n",
       "      <td>Proton-M/Briz-M | Ekspress-80 &amp; Ekspress-103</td>\n",
       "      <td>StatusActive</td>\n",
       "      <td>65.0</td>\n",
       "      <td>Success</td>\n",
       "    </tr>\n",
       "    <tr>\n",
       "      <th>4</th>\n",
       "      <td>4</td>\n",
       "      <td>4</td>\n",
       "      <td>ULA</td>\n",
       "      <td>SLC-41, Cape Canaveral AFS, Florida, USA</td>\n",
       "      <td>Thu Jul 30, 2020 11:50 UTC</td>\n",
       "      <td>Atlas V 541 | Perseverance</td>\n",
       "      <td>StatusActive</td>\n",
       "      <td>145.0</td>\n",
       "      <td>Success</td>\n",
       "    </tr>\n",
       "  </tbody>\n",
       "</table>\n",
       "</div>"
      ],
      "text/plain": [
       "   Unnamed: 0.1  Unnamed: 0 Organisation  \\\n",
       "0             0           0       SpaceX   \n",
       "1             1           1         CASC   \n",
       "2             2           2       SpaceX   \n",
       "3             3           3    Roscosmos   \n",
       "4             4           4          ULA   \n",
       "\n",
       "                                            Location  \\\n",
       "0         LC-39A, Kennedy Space Center, Florida, USA   \n",
       "1  Site 9401 (SLS-2), Jiuquan Satellite Launch Ce...   \n",
       "2                      Pad A, Boca Chica, Texas, USA   \n",
       "3       Site 200/39, Baikonur Cosmodrome, Kazakhstan   \n",
       "4           SLC-41, Cape Canaveral AFS, Florida, USA   \n",
       "\n",
       "                         Date                                        Detail  \\\n",
       "0  Fri Aug 07, 2020 05:12 UTC  Falcon 9 Block 5 | Starlink V1 L9 & BlackSky   \n",
       "1  Thu Aug 06, 2020 04:01 UTC           Long March 2D | Gaofen-9 04 & Q-SAT   \n",
       "2  Tue Aug 04, 2020 23:57 UTC            Starship Prototype | 150 Meter Hop   \n",
       "3  Thu Jul 30, 2020 21:25 UTC  Proton-M/Briz-M | Ekspress-80 & Ekspress-103   \n",
       "4  Thu Jul 30, 2020 11:50 UTC                    Atlas V 541 | Perseverance   \n",
       "\n",
       "  Rocket_Status  Price Mission_Status  \n",
       "0  StatusActive   50.0        Success  \n",
       "1  StatusActive  29.75        Success  \n",
       "2  StatusActive    NaN        Success  \n",
       "3  StatusActive   65.0        Success  \n",
       "4  StatusActive  145.0        Success  "
      ]
     },
     "execution_count": 16,
     "metadata": {},
     "output_type": "execute_result"
    }
   ],
   "source": [
    "#Se asigna el dataset a un dataframe y se leen las primeras 5 entradas.\n",
    "df = pd.read_csv(url)\n",
    "df.head()"
   ]
  },
  {
   "cell_type": "code",
   "execution_count": 17,
   "metadata": {},
   "outputs": [
    {
     "name": "stdout",
     "output_type": "stream",
     "text": [
      "Index(['Organization', 'Location', 'Date', 'Detail', 'Rocket_Status', 'Price',\n",
      "       'Mission_Status'],\n",
      "      dtype='object')\n",
      "<class 'pandas.core.frame.DataFrame'>\n",
      "RangeIndex: 4324 entries, 0 to 4323\n",
      "Data columns (total 7 columns):\n",
      " #   Column          Non-Null Count  Dtype \n",
      "---  ------          --------------  ----- \n",
      " 0   Organization    4324 non-null   object\n",
      " 1   Location        4324 non-null   object\n",
      " 2   Date            4324 non-null   object\n",
      " 3   Detail          4324 non-null   object\n",
      " 4   Rocket_Status   4324 non-null   object\n",
      " 5   Price           964 non-null    object\n",
      " 6   Mission_Status  4324 non-null   object\n",
      "dtypes: object(7)\n",
      "memory usage: 236.6+ KB\n",
      "None\n"
     ]
    }
   ],
   "source": [
    "#Se identifican columnas con valores identicos y se eliminan\n",
    "df = df.drop([\"Unnamed: 0.1\", \"Unnamed: 0\"], axis=1)\n",
    "#Se renombra una columna para visualización correcta de los datos y se comprueban los cambios\n",
    "df = df.rename(columns={\"Organisation\":\"Organization\"})\n",
    "print(df.columns)\n",
    "#Se visualiza información relevante sobre el dataframe\n",
    "print(df.info())"
   ]
  },
  {
   "cell_type": "code",
   "execution_count": 18,
   "metadata": {},
   "outputs": [
    {
     "name": "stdout",
     "output_type": "stream",
     "text": [
      "4324\n"
     ]
    },
    {
     "data": {
      "text/html": [
       "<div>\n",
       "<style scoped>\n",
       "    .dataframe tbody tr th:only-of-type {\n",
       "        vertical-align: middle;\n",
       "    }\n",
       "\n",
       "    .dataframe tbody tr th {\n",
       "        vertical-align: top;\n",
       "    }\n",
       "\n",
       "    .dataframe thead th {\n",
       "        text-align: right;\n",
       "    }\n",
       "</style>\n",
       "<table border=\"1\" class=\"dataframe\">\n",
       "  <thead>\n",
       "    <tr style=\"text-align: right;\">\n",
       "      <th></th>\n",
       "      <th>Organization</th>\n",
       "      <th>Location</th>\n",
       "      <th>Date</th>\n",
       "      <th>Detail</th>\n",
       "      <th>Rocket_Status</th>\n",
       "      <th>Price</th>\n",
       "      <th>Mission_Status</th>\n",
       "      <th>Month</th>\n",
       "      <th>Year</th>\n",
       "    </tr>\n",
       "  </thead>\n",
       "  <tbody>\n",
       "    <tr>\n",
       "      <th>0</th>\n",
       "      <td>SpaceX</td>\n",
       "      <td>LC-39A, Kennedy Space Center, Florida, USA</td>\n",
       "      <td>2020-08-07 05:12:00+00:00</td>\n",
       "      <td>Falcon 9 Block 5 | Starlink V1 L9 &amp; BlackSky</td>\n",
       "      <td>StatusActive</td>\n",
       "      <td>50.0</td>\n",
       "      <td>Success</td>\n",
       "      <td>August</td>\n",
       "      <td>2020</td>\n",
       "    </tr>\n",
       "    <tr>\n",
       "      <th>1</th>\n",
       "      <td>CASC</td>\n",
       "      <td>Site 9401 (SLS-2), Jiuquan Satellite Launch Ce...</td>\n",
       "      <td>2020-08-06 04:01:00+00:00</td>\n",
       "      <td>Long March 2D | Gaofen-9 04 &amp; Q-SAT</td>\n",
       "      <td>StatusActive</td>\n",
       "      <td>29.75</td>\n",
       "      <td>Success</td>\n",
       "      <td>August</td>\n",
       "      <td>2020</td>\n",
       "    </tr>\n",
       "    <tr>\n",
       "      <th>2</th>\n",
       "      <td>SpaceX</td>\n",
       "      <td>Pad A, Boca Chica, Texas, USA</td>\n",
       "      <td>2020-08-04 23:57:00+00:00</td>\n",
       "      <td>Starship Prototype | 150 Meter Hop</td>\n",
       "      <td>StatusActive</td>\n",
       "      <td>NaN</td>\n",
       "      <td>Success</td>\n",
       "      <td>August</td>\n",
       "      <td>2020</td>\n",
       "    </tr>\n",
       "    <tr>\n",
       "      <th>3</th>\n",
       "      <td>Roscosmos</td>\n",
       "      <td>Site 200/39, Baikonur Cosmodrome, Kazakhstan</td>\n",
       "      <td>2020-07-30 21:25:00+00:00</td>\n",
       "      <td>Proton-M/Briz-M | Ekspress-80 &amp; Ekspress-103</td>\n",
       "      <td>StatusActive</td>\n",
       "      <td>65.0</td>\n",
       "      <td>Success</td>\n",
       "      <td>July</td>\n",
       "      <td>2020</td>\n",
       "    </tr>\n",
       "    <tr>\n",
       "      <th>4</th>\n",
       "      <td>ULA</td>\n",
       "      <td>SLC-41, Cape Canaveral AFS, Florida, USA</td>\n",
       "      <td>2020-07-30 11:50:00+00:00</td>\n",
       "      <td>Atlas V 541 | Perseverance</td>\n",
       "      <td>StatusActive</td>\n",
       "      <td>145.0</td>\n",
       "      <td>Success</td>\n",
       "      <td>July</td>\n",
       "      <td>2020</td>\n",
       "    </tr>\n",
       "  </tbody>\n",
       "</table>\n",
       "</div>"
      ],
      "text/plain": [
       "  Organization                                           Location  \\\n",
       "0       SpaceX         LC-39A, Kennedy Space Center, Florida, USA   \n",
       "1         CASC  Site 9401 (SLS-2), Jiuquan Satellite Launch Ce...   \n",
       "2       SpaceX                      Pad A, Boca Chica, Texas, USA   \n",
       "3    Roscosmos       Site 200/39, Baikonur Cosmodrome, Kazakhstan   \n",
       "4          ULA           SLC-41, Cape Canaveral AFS, Florida, USA   \n",
       "\n",
       "                       Date                                        Detail  \\\n",
       "0 2020-08-07 05:12:00+00:00  Falcon 9 Block 5 | Starlink V1 L9 & BlackSky   \n",
       "1 2020-08-06 04:01:00+00:00           Long March 2D | Gaofen-9 04 & Q-SAT   \n",
       "2 2020-08-04 23:57:00+00:00            Starship Prototype | 150 Meter Hop   \n",
       "3 2020-07-30 21:25:00+00:00  Proton-M/Briz-M | Ekspress-80 & Ekspress-103   \n",
       "4 2020-07-30 11:50:00+00:00                    Atlas V 541 | Perseverance   \n",
       "\n",
       "  Rocket_Status  Price Mission_Status   Month  Year  \n",
       "0  StatusActive   50.0        Success  August  2020  \n",
       "1  StatusActive  29.75        Success  August  2020  \n",
       "2  StatusActive    NaN        Success  August  2020  \n",
       "3  StatusActive   65.0        Success    July  2020  \n",
       "4  StatusActive  145.0        Success    July  2020  "
      ]
     },
     "execution_count": 18,
     "metadata": {},
     "output_type": "execute_result"
    }
   ],
   "source": [
    "#La columna Date se codifica correctamente a un formato de fecha y se crean dos nuevas columnas, una para los meses y otra para los años.\n",
    "df['Date'] = pd.to_datetime(df['Date'], format='mixed', utc=True)\n",
    "df[\"Month\"] = df[\"Date\"].dt.month_name()\n",
    "df[\"Year\"] = df[\"Date\"].dt.year\n",
    "#Se comprueban los cambios.\n",
    "print(df[\"Date\"].count())\n",
    "df.head()"
   ]
  },
  {
   "cell_type": "code",
   "execution_count": 19,
   "metadata": {},
   "outputs": [
    {
     "name": "stdout",
     "output_type": "stream",
     "text": [
      "La cantidad de valores no nulos en Price es: 964 \n",
      "\n",
      "La cantidad de valores nulos en Price es: 3360 \n",
      "\n",
      "El tipo de la columna precio es: object \n",
      "\n",
      "El porcentaje de NaN es: 77.70582793709528 \n",
      "\n",
      "['50.0' '29.75' nan '65.0' '145.0' '64.68' '48.5' '90.0' '46.0' '28.3'\n",
      " '29.15' '7.5' '30.8' '5.3' '12.0' '112.5' '120.0' '153.0' '200.0' '85.0'\n",
      " '115.0' '41.8' '21.0' '31.0' '40.0' '164.0' '62.0' '37.0' '350.0' '39.0'\n",
      " '47.0' '35.0' '69.7' '109.0' '45.0' '123.0' '130.0' '25.0' '56.5' '15.0'\n",
      " '29.0' '80.0' '140.0' '55.0' '59.5' '450.0' '7.0' '20.14' '133.0' '190.0'\n",
      " '135.0' '20.0' '136.6' '5,000.0' '1,160.0' '59.0' '63.23']\n"
     ]
    }
   ],
   "source": [
    "# Anteriormente se observó que Price tenía una cantidad muy menor de valores al total de filas. \n",
    "# Se obtienen datos selevantes\n",
    "print(\"La cantidad de valores no nulos en Price es:\",df[\"Price\"].count(),\"\\n\")\n",
    "print(\"La cantidad de valores nulos en Price es:\",df[\"Price\"].isnull().sum(),\"\\n\")\n",
    "print(\"El tipo de la columna precio es:\",df[\"Price\"].dtype,\"\\n\")\n",
    "print(\"El porcentaje de NaN es:\",df[\"Price\"].isna().mean() * 100,\"\\n\")\n",
    "print(df[\"Price\"].unique())"
   ]
  },
  {
   "cell_type": "code",
   "execution_count": 20,
   "metadata": {},
   "outputs": [
    {
     "name": "stdout",
     "output_type": "stream",
     "text": [
      "   Decade   % NaN\n",
      "0    1950  100.00\n",
      "1    1960   95.74\n",
      "2    1970   99.41\n",
      "3    1980   93.03\n",
      "4    1990   79.44\n",
      "5    2000   55.79\n",
      "6    2010   27.96\n",
      "7    2020   17.46 \n",
      "\n"
     ]
    }
   ],
   "source": [
    "#Para poder visualizar el porcentaje de valores NaN, se crea una columna Decade\n",
    "df[\"Decade\"] = (df[\"Year\"]) // 10 * 10\n",
    "nan_by_decade = df.groupby(\"Decade\")[\"Price\"].apply(lambda x: x.isna().mean() * 100).round(2).reset_index(name=\"% NaN\")\n",
    "print(nan_by_decade,\"\\n\")"
   ]
  },
  {
   "cell_type": "code",
   "execution_count": 21,
   "metadata": {},
   "outputs": [
    {
     "name": "stdout",
     "output_type": "stream",
     "text": [
      "La cantidad de valores no nulos es: 964\n",
      "[  50.     29.75     nan   65.    145.     64.68   48.5    90.     46.\n",
      "   28.3    29.15    7.5    30.8     5.3    12.    112.5   120.    153.\n",
      "  200.     85.    115.     41.8    21.     31.     40.    164.     62.\n",
      "   37.    350.     39.     47.     35.     69.7   109.     45.    123.\n",
      "  130.     25.     56.5    15.     29.     80.    140.     55.     59.5\n",
      "  450.      7.     20.14  133.    190.    135.     20.    136.6  5000.\n",
      " 1160.     59.     63.23]\n",
      "3360\n",
      "float64\n"
     ]
    }
   ],
   "source": [
    "#Anteriormente se visualizaron los valores únicos, para hacer una conversión correcta se eliminan las comas\n",
    "df[\"Price\"] = df[\"Price\"].str.replace(\",\", \"\", regex=True)\n",
    "df[\"Price\"] = pd.to_numeric(df[\"Price\"], errors=\"coerce\")\n",
    "#Una vez realizados los cambios y la conversión del tipo de columna, se comprueban los cambios\n",
    "print(\"La cantidad de valores no nulos es:\",df[\"Price\"].count())\n",
    "print(df[\"Price\"].unique())\n",
    "print(df[\"Price\"].isnull().sum())\n",
    "print(df[\"Price\"].dtype)"
   ]
  },
  {
   "cell_type": "code",
   "execution_count": 22,
   "metadata": {},
   "outputs": [
    {
     "name": "stdout",
     "output_type": "stream",
     "text": [
      "Valores nulos en la columna Mission Status: 0\n",
      "Variables en la columna Mision Status: ['Success' 'Failure' 'Prelaunch Failure' 'Partial Failure']\n",
      "int32\n",
      "4324\n"
     ]
    }
   ],
   "source": [
    "#Se comprueba que la columna Mission Status no tenga valores nulos\n",
    "print(\"Valores nulos en la columna Mission Status:\",df[\"Mission_Status\"].isnull().sum())\n",
    "#Se visualizan los tipos de datos que se pueden encontrar en esa columna\n",
    "print(\"Variables en la columna Mision Status:\",df[\"Mission_Status\"].unique())\n",
    "#Se crea una nueva columna para visualizar el éxito. Se tendrá a 1 cómo Misión exitosa, y 0 para todas las demás variables.\n",
    "df[\"Successed\"] = (df[\"Mission_Status\"] == \"Success\").astype(int)\n",
    "print(df[\"Successed\"].dtype)\n",
    "print(df[\"Successed\"].count())"
   ]
  },
  {
   "cell_type": "code",
   "execution_count": 23,
   "metadata": {},
   "outputs": [],
   "source": [
    "# Se agrupa por año y organización, luego se cuentan las misiones\n",
    "org_year_counts = df.groupby(['Year', 'Organization']).size().reset_index(name='Missions')\n",
    "## Encontrar la organización con más misiones por año\n",
    "max_missions_per_year = org_year_counts.loc[org_year_counts.groupby('Year')['Missions'].idxmax()].reset_index(drop=True)\n",
    "max_missions_per_year.to_csv(\"max_missions_per_year.csv\",index=False)"
   ]
  },
  {
   "cell_type": "code",
   "execution_count": 24,
   "metadata": {},
   "outputs": [],
   "source": [
    "#Se agrupa por año y se calcula el total de las misiones\n",
    "launches_per_year = df.groupby('Year').size().reset_index(name='Total_Launches')\n",
    "#Se exporta el dataframe a la base de datos, con nombre de tabla launches_per_year\n",
    "launches_per_year.to_csv(\"launches_per_year.csv\",index=False)"
   ]
  },
  {
   "cell_type": "code",
   "execution_count": 25,
   "metadata": {},
   "outputs": [],
   "source": [
    "##Debido a que el porcentaje de valores nulos es demasiado alto desde la decada de 1990 hacia atrás, para el análisis se considerará\n",
    "##solo el porcentaje de precio a partir del año 2000 por la impresición que podría generar usar los otros años.\n",
    "##Se toma la mediana debido al hallazgo de valores extremos, para evitar inconsistencias.\n",
    "price_trend = df[df['Year'] >= 2000].groupby('Year')['Price'].median().reset_index().round(2)\n",
    "price_trend.to_csv(\"price_trend.csv\",index=False)"
   ]
  },
  {
   "cell_type": "code",
   "execution_count": 26,
   "metadata": {},
   "outputs": [],
   "source": [
    "#Se agrupa por mes y se calcula el total de las misiones\n",
    "monthly_launches = df.groupby('Month').size().reset_index(name='Count')\n",
    "#Se ordena de mayor a menor\n",
    "monthly_launches = monthly_launches.sort_values('Count', ascending=False)\n",
    "#Se exporta el dataframe a la base de datos, con nombre de tabla monthly_launches\n",
    "monthly_launches.to_csv(\"monthly_launches.csv\",index=False)"
   ]
  },
  {
   "cell_type": "code",
   "execution_count": 27,
   "metadata": {},
   "outputs": [],
   "source": [
    "# Calcular tasa de éxito anual\n",
    "success_trend = df.groupby('Year')['Successed'].mean().reset_index().round(4)\n",
    "success_trend.to_csv(f\"success_trend.csv\",index=False)"
   ]
  }
 ],
 "metadata": {
  "kernelspec": {
   "display_name": "base",
   "language": "python",
   "name": "python3"
  },
  "language_info": {
   "codemirror_mode": {
    "name": "ipython",
    "version": 3
   },
   "file_extension": ".py",
   "mimetype": "text/x-python",
   "name": "python",
   "nbconvert_exporter": "python",
   "pygments_lexer": "ipython3",
   "version": "3.12.7"
  }
 },
 "nbformat": 4,
 "nbformat_minor": 2
}
